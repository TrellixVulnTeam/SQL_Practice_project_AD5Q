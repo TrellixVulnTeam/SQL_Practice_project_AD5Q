{
 "cells": [
  {
   "cell_type": "markdown",
   "source": [
    "# Part 2\n",
    "\n",
    "* PART 2: SQLite\n",
    "\n",
    "Export the country club data from PHPMyAdmin, and connect to a local SQLite instance from Jupyter notebook\n",
    "for the following questions.\n",
    "\n",
    "QUESTIONS:\n",
    "/* Q10: Produce a list of facilities with a total revenue less than 1000.\n",
    "The output of facility name and total revenue, sorted by revenue. Remember\n",
    "that there's a different cost for guests and members! */\n",
    "\n",
    "/* Q11: Produce a report of members and who recommended them in alphabetic surname,firstname order */\n",
    "\n",
    "\n",
    "/* Q12: Find the facilities with their usage by member, but not guests */\n",
    "\n",
    "\n",
    "/* Q13: Find the facilities usage by month, but not guests */\n"
   ],
   "metadata": {
    "collapsed": false,
    "pycharm": {
     "name": "#%% md\n"
    }
   }
  },
  {
   "cell_type": "markdown",
   "source": [
    "Queries for questions"
   ],
   "metadata": {
    "collapsed": false,
    "pycharm": {
     "name": "#%% md\n"
    }
   }
  },
  {
   "cell_type": "code",
   "execution_count": 31,
   "outputs": [],
   "source": [
    "query_10 = \"\"\"\n",
    "        SELECT f.name,\n",
    "            sum(CASE\n",
    "                WHEN b.memid = 0 THEN b.slots * f.guestcost\n",
    "                ELSE b.slots * f.membercost\n",
    "                END) AS revenue\n",
    "        FROM Facilities AS f\n",
    "            INNER JOIN Bookings AS b ON b.facid = f.facid\n",
    "        GROUP BY f.name\n",
    "        HAVING revenue < 1000\n",
    "        ORDER BY revenue;\n",
    "        \"\"\"\n",
    "\n",
    "query_11 = \"\"\"\n",
    "        SELECT (m.firstname || ' ' || m.surname) as member,\n",
    "               (r.firstname || ' ' || r.surname) as recommender\n",
    "        FROM Members as m\n",
    "            INNER JOIN Members as r ON m.recommendedby = r.memid\n",
    "        WHERE m.recommendedby != 0\n",
    "        ORDER BY r.surname, r.firstname;\n",
    "        \"\"\"\n",
    "\n",
    "query_12 = \"\"\"\n",
    "        SELECT f.name as facility,\n",
    "             COUNT(mb.memid) AS member_usage\n",
    "        FROM (SELECT facid, memid\n",
    "                FROM Bookings\n",
    "                WHERE memid != 0) as mb\n",
    "            INNER JOIN Facilities as f ON mb.facid = f.facid\n",
    "        GROUP BY mb.facid;\n",
    "        \"\"\"\n",
    "\n",
    "query_13 = \"\"\"\n",
    "    SELECT f.name as facility,\n",
    "            mb.month as month,\n",
    "            COUNT(mb.memid) as member_usage\n",
    "    FROM (\n",
    "        SELECT strftime('%m', starttime) as month, memid, facid\n",
    "        FROM Bookings\n",
    "        WHERE memid != 0) as mb\n",
    "        INNER JOIN Facilities as f ON f.facid = mb.facid\n",
    "    GROUP by mb.month;\n",
    "    \"\"\""
   ],
   "metadata": {
    "collapsed": false,
    "pycharm": {
     "name": "#%%\n"
    }
   }
  },
  {
   "cell_type": "markdown",
   "source": [
    "Load imports\n"
   ],
   "metadata": {
    "collapsed": false,
    "pycharm": {
     "name": "#%% md\n"
    }
   }
  },
  {
   "cell_type": "code",
   "execution_count": 32,
   "metadata": {
    "collapsed": true
   },
   "outputs": [],
   "source": [
    "import sqlite3\n",
    "from sqlite3 import Error"
   ]
  },
  {
   "cell_type": "markdown",
   "source": [
    "Connect to database"
   ],
   "metadata": {
    "collapsed": false,
    "pycharm": {
     "name": "#%% md\n"
    }
   }
  },
  {
   "cell_type": "code",
   "execution_count": 33,
   "outputs": [],
   "source": [
    "def create_connection(db_file):\n",
    "    conn = None\n",
    "    try:\n",
    "        conn = sqlite3.connect(db_file)\n",
    "        print(sqlite3.version)\n",
    "    except Error as e:\n",
    "        print(e)\n",
    "    return conn"
   ],
   "metadata": {
    "collapsed": false,
    "pycharm": {
     "name": "#%%\n"
    }
   }
  },
  {
   "cell_type": "code",
   "execution_count": 34,
   "outputs": [],
   "source": [
    "\n",
    "def select_all_tasks(conn, query):\n",
    "    \"\"\"\n",
    "    Query all rows in the tasks table\n",
    "    :param conn: the Connection object\n",
    "    :return:\n",
    "    \"\"\"\n",
    "    cur = conn.cursor()\n",
    "\n",
    "    cur.execute(query)\n",
    "\n",
    "    rows = cur.fetchall()\n",
    "\n",
    "    for row in rows:\n",
    "        print(row)"
   ],
   "metadata": {
    "collapsed": false,
    "pycharm": {
     "name": "#%%\n"
    }
   }
  },
  {
   "cell_type": "code",
   "execution_count": 35,
   "outputs": [
    {
     "name": "stdout",
     "output_type": "stream",
     "text": [
      "2.6.0\n",
      "\n",
      "10) Return list of facilities with total revenue less than 1000\n",
      "('Table Tennis', 180)\n",
      "('Snooker Table', 240)\n",
      "('Pool Table', 270)\n",
      "\n",
      "11) Produce a report of members and who recommended them in alphabetic surname,firstname order\n",
      "('Ramnaresh Sarwin', 'Florence Bader')\n",
      "('Joan Coplin', 'Timothy Baker')\n",
      "('Matthew Genting', 'Gerald Butters')\n",
      "('Timothy Baker', 'Jemima Farrell')\n",
      "('David Pinker', 'Jemima Farrell')\n",
      "('Henrietta Rumney', 'Matthew Genting')\n",
      "('Douglas Jones', 'David Jones')\n",
      "('Nancy Dare', 'Janice Joplette')\n",
      "('David Jones', 'Janice Joplette')\n",
      "('John Hunt', 'Millicent Purview')\n",
      "('Tim Boothe', 'Tim Rownam')\n",
      "('Janice Joplette', 'Darren Smith')\n",
      "('Gerald Butters', 'Darren Smith')\n",
      "('Charles Owen', 'Darren Smith')\n",
      "('Jack Smith', 'Darren Smith')\n",
      "('Anna Mackenzie', 'Darren Smith')\n",
      "('Henry Worthington-Smyth', 'Tracy Smith')\n",
      "('Millicent Purview', 'Tracy Smith')\n",
      "('Erica Crumpet', 'Tracy Smith')\n",
      "('Anne Baker', 'Ponder Stibbons')\n",
      "('Florence Bader', 'Ponder Stibbons')\n",
      "('Ponder Stibbons', 'Burton Tracy')\n",
      "\n",
      "12) Find the facilities with their usage by member, but not guests\n",
      "('Tennis Court 1', 308)\n",
      "('Tennis Court 2', 276)\n",
      "('Badminton Court', 344)\n",
      "('Table Tennis', 385)\n",
      "('Massage Room 1', 421)\n",
      "('Massage Room 2', 27)\n",
      "('Squash Court', 195)\n",
      "('Snooker Table', 421)\n",
      "('Pool Table', 783)\n",
      "\n",
      "13) Find the facilities usage by month, but not guests\n",
      "('Table Tennis', '07', 480)\n",
      "('Tennis Court 1', '08', 1168)\n",
      "('Tennis Court 1', '09', 1512)\n"
     ]
    }
   ],
   "source": [
    "def main():\n",
    "    database = '../sqlite_db_pythonsqlite.db'\n",
    "\n",
    "    conn = create_connection(database)\n",
    "    with conn:\n",
    "        print(\"\\n10) Return list of facilities with total revenue less than 1000\")\n",
    "        select_all_tasks(conn, query_10)\n",
    "\n",
    "        print(\"\\n11) Produce a report of members and who recommended them in alphabetic surname,firstname order\")\n",
    "        select_all_tasks(conn, query_11)\n",
    "\n",
    "        print(\"\\n12) Find the facilities with their usage by member, but not guests\")\n",
    "        select_all_tasks(conn, query_12)\n",
    "\n",
    "        print(\"\\n13) Find the facilities usage by month, but not guests\")\n",
    "        select_all_tasks(conn, query_13)\n",
    "if __name__ == '__main__':\n",
    "    main()"
   ],
   "metadata": {
    "collapsed": false,
    "pycharm": {
     "name": "#%%\n"
    }
   }
  }
 ],
 "metadata": {
  "kernelspec": {
   "display_name": "Python 3",
   "language": "python",
   "name": "python3"
  },
  "language_info": {
   "codemirror_mode": {
    "name": "ipython",
    "version": 2
   },
   "file_extension": ".py",
   "mimetype": "text/x-python",
   "name": "python",
   "nbconvert_exporter": "python",
   "pygments_lexer": "ipython2",
   "version": "2.7.6"
  }
 },
 "nbformat": 4,
 "nbformat_minor": 0
}